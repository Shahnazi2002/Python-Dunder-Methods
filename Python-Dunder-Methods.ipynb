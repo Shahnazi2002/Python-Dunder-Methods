{
 "cells": [
  {
   "cell_type": "markdown",
   "id": "5170bc09",
   "metadata": {},
   "source": [
    "https://github.com/Shahnazi2002"
   ]
  },
  {
   "cell_type": "code",
   "execution_count": 1,
   "id": "a3e06999",
   "metadata": {},
   "outputs": [
    {
     "name": "stdout",
     "output_type": "stream",
     "text": [
      "Someone who lives on Mars.\n"
     ]
    }
   ],
   "source": [
    "# __doc__\n",
    "\n",
    "class Martian:\n",
    "    \"\"\"Someone who lives on Mars.\"\"\"\n",
    "\n",
    "    def __init__(self, name):\n",
    "        self.name = name\n",
    "\n",
    "\n",
    "print(Martian.__doc__)"
   ]
  },
  {
   "cell_type": "code",
   "execution_count": 2,
   "id": "e12a49d3",
   "metadata": {},
   "outputs": [
    {
     "name": "stdout",
     "output_type": "stream",
     "text": [
      "Name: Mohammad Shahanzi\n",
      "Age: 20\n"
     ]
    }
   ],
   "source": [
    "# __str__\n",
    "\n",
    "class Person:\n",
    "    def __init__(self, first_name, last_name, age):\n",
    "        self.first_name = first_name\n",
    "        self.last_name = last_name\n",
    "        self.age = age\n",
    "\n",
    "    def __str__(self):\n",
    "        return f\"Name: {self.first_name} {self.last_name}\\nAge: {self.age}\"\n",
    "\n",
    "\n",
    "p1 = Person(\"Mohammad\", \"Shahanzi\", 20)\n",
    "print(p1)"
   ]
  },
  {
   "cell_type": "code",
   "execution_count": 3,
   "id": "6e59a9a1",
   "metadata": {},
   "outputs": [
    {
     "name": "stdout",
     "output_type": "stream",
     "text": [
      "True\n",
      "False\n",
      "False\n"
     ]
    }
   ],
   "source": [
    "# __lt__\n",
    "\n",
    "class Person:\n",
    "    def __init__(self, name, age):\n",
    "        self.name = name\n",
    "        self.age = age\n",
    "\n",
    "    def __lt__(self, other):\n",
    "        if self.age < other.age:\n",
    "            return True\n",
    "        else:\n",
    "            return False\n",
    "\n",
    "\n",
    "p1 = Person(\"Mohammad\", 20)\n",
    "p2 = Person(\"Amin\", 37)\n",
    "p3 = Person(\"Ali\", 19)\n",
    "p4 = Person(\"Erfan\", 20)\n",
    "\n",
    "print(p1 < p2)\n",
    "print(p1 < p3)\n",
    "print(p1 < p4)"
   ]
  },
  {
   "cell_type": "code",
   "execution_count": 4,
   "id": "ef614893",
   "metadata": {},
   "outputs": [
    {
     "name": "stdout",
     "output_type": "stream",
     "text": [
      "True\n",
      "False\n",
      "True\n"
     ]
    }
   ],
   "source": [
    "# __le__\n",
    "\n",
    "class Person:\n",
    "    def __init__(self, name, age):\n",
    "        self.name = name\n",
    "        self.age = age\n",
    "\n",
    "    def __le__(self, other):\n",
    "        if self.age <= other.age:\n",
    "            return True\n",
    "        else:\n",
    "            return False\n",
    "\n",
    "\n",
    "p1 = Person(\"Mohammad\", 20)\n",
    "p2 = Person(\"Amin\", 37)\n",
    "p3 = Person(\"Ali\", 19)\n",
    "p4 = Person(\"Erfan\", 20)\n",
    "\n",
    "print(p1 <= p2)\n",
    "print(p1 <= p3)\n",
    "print(p1 <= p4)"
   ]
  },
  {
   "cell_type": "code",
   "execution_count": 5,
   "id": "b764136c",
   "metadata": {},
   "outputs": [
    {
     "name": "stdout",
     "output_type": "stream",
     "text": [
      "False\n",
      "False\n",
      "True\n"
     ]
    }
   ],
   "source": [
    "# __eq__\n",
    "\n",
    "class Person:\n",
    "    def __init__(self, name, age):\n",
    "        self.name = name\n",
    "        self.age = age\n",
    "\n",
    "    def __eq__(self, other):\n",
    "        if self.age == other.age:\n",
    "            return True\n",
    "        else:\n",
    "            return False\n",
    "\n",
    "\n",
    "p1 = Person(\"Mohammad\", 20)\n",
    "p2 = Person(\"Amin\", 37)\n",
    "p3 = Person(\"Ali\", 19)\n",
    "p4 = Person(\"Erfan\", 20)\n",
    "\n",
    "print(p1 == p2)\n",
    "print(p1 == p3)\n",
    "print(p1 == p4)"
   ]
  },
  {
   "cell_type": "code",
   "execution_count": 6,
   "id": "a30c24e6",
   "metadata": {},
   "outputs": [
    {
     "name": "stdout",
     "output_type": "stream",
     "text": [
      "True\n",
      "True\n",
      "False\n"
     ]
    }
   ],
   "source": [
    "# __ne__\n",
    "\n",
    "class Person:\n",
    "    def __init__(self, name, age):\n",
    "        self.name = name\n",
    "        self.age = age\n",
    "\n",
    "    def __ne__(self, other):\n",
    "        if self.age != other.age:\n",
    "            return True\n",
    "        else:\n",
    "            return False\n",
    "\n",
    "\n",
    "p1 = Person(\"Mohammad\", 20)\n",
    "p2 = Person(\"Amin\", 37)\n",
    "p3 = Person(\"Ali\", 19)\n",
    "p4 = Person(\"Erfan\", 20)\n",
    "\n",
    "print(p1 != p2)\n",
    "print(p1 != p3)\n",
    "print(p1 != p4)"
   ]
  },
  {
   "cell_type": "code",
   "execution_count": 7,
   "id": "1f852e89",
   "metadata": {},
   "outputs": [
    {
     "name": "stdout",
     "output_type": "stream",
     "text": [
      "False\n",
      "True\n",
      "False\n"
     ]
    }
   ],
   "source": [
    "# __gt__\n",
    "\n",
    "class Person:\n",
    "    def __init__(self, name, age):\n",
    "        self.name = name\n",
    "        self.age = age\n",
    "\n",
    "    def __gt__(self, other):\n",
    "        if self.age > other.age:\n",
    "            return True\n",
    "        else:\n",
    "            return False\n",
    "\n",
    "\n",
    "p1 = Person(\"Mohammad\", 20)\n",
    "p2 = Person(\"Amin\", 37)\n",
    "p3 = Person(\"Ali\", 19)\n",
    "p4 = Person(\"Erfan\", 20)\n",
    "\n",
    "print(p1 > p2)\n",
    "print(p1 > p3)\n",
    "print(p1 > p4)"
   ]
  },
  {
   "cell_type": "code",
   "execution_count": 8,
   "id": "c6973a3d",
   "metadata": {},
   "outputs": [
    {
     "name": "stdout",
     "output_type": "stream",
     "text": [
      "False\n",
      "True\n",
      "True\n"
     ]
    }
   ],
   "source": [
    "# __ge__\n",
    "\n",
    "class Person:\n",
    "    def __init__(self, name, age):\n",
    "        self.name = name\n",
    "        self.age = age\n",
    "\n",
    "    def __ge__(self, other):\n",
    "        if self.age >= other.age:\n",
    "            return True\n",
    "        else:\n",
    "            return False\n",
    "\n",
    "\n",
    "p1 = Person(\"Mohammad\", 20)\n",
    "p2 = Person(\"Amin\", 37)\n",
    "p3 = Person(\"Ali\", 19)\n",
    "p4 = Person(\"Erfan\", 20)\n",
    "\n",
    "print(p1 >= p2)\n",
    "print(p1 >= p3)\n",
    "print(p1 >= p4)"
   ]
  },
  {
   "cell_type": "code",
   "execution_count": 9,
   "id": "47be3bf2",
   "metadata": {},
   "outputs": [
    {
     "name": "stdout",
     "output_type": "stream",
     "text": [
      "True\n",
      "True\n",
      "False\n"
     ]
    }
   ],
   "source": [
    "# __bool__\n",
    "\n",
    "class Person:\n",
    "    def __init__(self, name, age):\n",
    "        self.name = name\n",
    "        self.age = age\n",
    "\n",
    "    def __bool__(self):\n",
    "        if self.age >= 18:\n",
    "            return True\n",
    "        else:\n",
    "            return False\n",
    "\n",
    "\n",
    "p1 = Person(\"Mohammad\", 20)\n",
    "p2 = Person(\"Amin\", 37)\n",
    "p3 = Person(\"Reza\", 14)\n",
    "\n",
    "print(bool(p1))\n",
    "print(bool(p2))\n",
    "print(bool(p3))"
   ]
  },
  {
   "cell_type": "code",
   "execution_count": 10,
   "id": "6fd19355",
   "metadata": {},
   "outputs": [
    {
     "name": "stdout",
     "output_type": "stream",
     "text": [
      "10\n"
     ]
    }
   ],
   "source": [
    "# __add__\n",
    "\n",
    "class Number:\n",
    "    def __init__(self, number):\n",
    "        self.n = number\n",
    "\n",
    "    def __add__(self, other):\n",
    "        return self.n + other.n\n",
    "\n",
    "\n",
    "n1 = Number(8)\n",
    "n2 = Number(2)\n",
    "\n",
    "print(n1 + n2)"
   ]
  },
  {
   "cell_type": "code",
   "execution_count": 11,
   "id": "624a27b2",
   "metadata": {},
   "outputs": [
    {
     "name": "stdout",
     "output_type": "stream",
     "text": [
      "6\n"
     ]
    }
   ],
   "source": [
    "# __sub__\n",
    "\n",
    "class Number:\n",
    "    def __init__(self, number):\n",
    "        self.n = number\n",
    "\n",
    "    def __sub__(self, other):\n",
    "        return self.n - other.n\n",
    "\n",
    "\n",
    "n1 = Number(8)\n",
    "n2 = Number(2)\n",
    "\n",
    "print(n1 - n2)"
   ]
  },
  {
   "cell_type": "code",
   "execution_count": 12,
   "id": "52a13265",
   "metadata": {},
   "outputs": [
    {
     "name": "stdout",
     "output_type": "stream",
     "text": [
      "16\n"
     ]
    }
   ],
   "source": [
    "# __mul__\n",
    "\n",
    "class Number:\n",
    "    def __init__(self, number):\n",
    "        self.n = number\n",
    "\n",
    "    def __mul__(self, other):\n",
    "        return self.n * other.n\n",
    "\n",
    "\n",
    "n1 = Number(8)\n",
    "n2 = Number(2)\n",
    "\n",
    "print(n1 * n2)"
   ]
  },
  {
   "cell_type": "code",
   "execution_count": null,
   "id": "6a08774e",
   "metadata": {},
   "outputs": [],
   "source": []
  }
 ],
 "metadata": {
  "kernelspec": {
   "display_name": "Python 3 (ipykernel)",
   "language": "python",
   "name": "python3"
  },
  "language_info": {
   "codemirror_mode": {
    "name": "ipython",
    "version": 3
   },
   "file_extension": ".py",
   "mimetype": "text/x-python",
   "name": "python",
   "nbconvert_exporter": "python",
   "pygments_lexer": "ipython3",
   "version": "3.10.0"
  }
 },
 "nbformat": 4,
 "nbformat_minor": 5
}
